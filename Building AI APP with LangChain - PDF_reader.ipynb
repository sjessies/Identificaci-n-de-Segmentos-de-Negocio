{
 "cells": [
  {
   "cell_type": "code",
   "execution_count": 1,
   "metadata": {
    "id": "VZI4XoEZuC8B"
   },
   "outputs": [
    {
     "name": "stdout",
     "output_type": "stream",
     "text": [
      "Requirement already satisfied: langchain==0.0.191 in c:\\users\\sjess\\anaconda3\\lib\\site-packages (0.0.191)\n",
      "Requirement already satisfied: SQLAlchemy<3,>=1.4 in c:\\users\\sjess\\anaconda3\\lib\\site-packages (from langchain==0.0.191) (1.4.39)\n",
      "Requirement already satisfied: openapi-schema-pydantic<2.0,>=1.2 in c:\\users\\sjess\\anaconda3\\lib\\site-packages (from langchain==0.0.191) (1.2.4)\n",
      "Requirement already satisfied: dataclasses-json<0.6.0,>=0.5.7 in c:\\users\\sjess\\anaconda3\\lib\\site-packages (from langchain==0.0.191) (0.5.14)\n",
      "Requirement already satisfied: aiohttp<4.0.0,>=3.8.3 in c:\\users\\sjess\\anaconda3\\lib\\site-packages (from langchain==0.0.191) (3.8.4)\n",
      "Requirement already satisfied: PyYAML>=5.4.1 in c:\\users\\sjess\\anaconda3\\lib\\site-packages (from langchain==0.0.191) (6.0)\n",
      "Requirement already satisfied: tenacity<9.0.0,>=8.1.0 in c:\\users\\sjess\\anaconda3\\lib\\site-packages (from langchain==0.0.191) (8.2.3)\n",
      "Requirement already satisfied: numexpr<3.0.0,>=2.8.4 in c:\\users\\sjess\\anaconda3\\lib\\site-packages (from langchain==0.0.191) (2.8.5)\n",
      "Requirement already satisfied: requests<3,>=2 in c:\\users\\sjess\\anaconda3\\lib\\site-packages (from langchain==0.0.191) (2.28.1)\n",
      "Requirement already satisfied: pydantic<2,>=1 in c:\\users\\sjess\\anaconda3\\lib\\site-packages (from langchain==0.0.191) (1.10.14)\n",
      "Requirement already satisfied: async-timeout<5.0.0,>=4.0.0 in c:\\users\\sjess\\anaconda3\\lib\\site-packages (from langchain==0.0.191) (4.0.2)\n",
      "Requirement already satisfied: numpy<2,>=1 in c:\\users\\sjess\\anaconda3\\lib\\site-packages (from langchain==0.0.191) (1.24.3)\n",
      "Requirement already satisfied: frozenlist>=1.1.1 in c:\\users\\sjess\\anaconda3\\lib\\site-packages (from aiohttp<4.0.0,>=3.8.3->langchain==0.0.191) (1.3.3)\n",
      "Requirement already satisfied: aiosignal>=1.1.2 in c:\\users\\sjess\\anaconda3\\lib\\site-packages (from aiohttp<4.0.0,>=3.8.3->langchain==0.0.191) (1.3.1)\n",
      "Requirement already satisfied: yarl<2.0,>=1.0 in c:\\users\\sjess\\anaconda3\\lib\\site-packages (from aiohttp<4.0.0,>=3.8.3->langchain==0.0.191) (1.9.2)\n",
      "Requirement already satisfied: multidict<7.0,>=4.5 in c:\\users\\sjess\\anaconda3\\lib\\site-packages (from aiohttp<4.0.0,>=3.8.3->langchain==0.0.191) (6.0.4)\n",
      "Requirement already satisfied: charset-normalizer<4.0,>=2.0 in c:\\users\\sjess\\anaconda3\\lib\\site-packages (from aiohttp<4.0.0,>=3.8.3->langchain==0.0.191) (2.0.4)\n",
      "Requirement already satisfied: attrs>=17.3.0 in c:\\users\\sjess\\anaconda3\\lib\\site-packages (from aiohttp<4.0.0,>=3.8.3->langchain==0.0.191) (21.4.0)\n",
      "Requirement already satisfied: typing-inspect<1,>=0.4.0 in c:\\users\\sjess\\anaconda3\\lib\\site-packages (from dataclasses-json<0.6.0,>=0.5.7->langchain==0.0.191) (0.9.0)\n",
      "Requirement already satisfied: marshmallow<4.0.0,>=3.18.0 in c:\\users\\sjess\\anaconda3\\lib\\site-packages (from dataclasses-json<0.6.0,>=0.5.7->langchain==0.0.191) (3.20.1)\n",
      "Requirement already satisfied: typing-extensions>=4.2.0 in c:\\users\\sjess\\anaconda3\\lib\\site-packages (from pydantic<2,>=1->langchain==0.0.191) (4.10.0)\n",
      "Requirement already satisfied: urllib3<1.27,>=1.21.1 in c:\\users\\sjess\\anaconda3\\lib\\site-packages (from requests<3,>=2->langchain==0.0.191) (1.26.16)\n",
      "Requirement already satisfied: certifi>=2017.4.17 in c:\\users\\sjess\\anaconda3\\lib\\site-packages (from requests<3,>=2->langchain==0.0.191) (2022.12.7)\n",
      "Requirement already satisfied: idna<4,>=2.5 in c:\\users\\sjess\\anaconda3\\lib\\site-packages (from requests<3,>=2->langchain==0.0.191) (3.3)\n",
      "Requirement already satisfied: greenlet!=0.4.17 in c:\\users\\sjess\\anaconda3\\lib\\site-packages (from SQLAlchemy<3,>=1.4->langchain==0.0.191) (1.1.1)\n",
      "Requirement already satisfied: packaging>=17.0 in c:\\users\\sjess\\anaconda3\\lib\\site-packages (from marshmallow<4.0.0,>=3.18.0->dataclasses-json<0.6.0,>=0.5.7->langchain==0.0.191) (21.3)\n",
      "Requirement already satisfied: mypy-extensions>=0.3.0 in c:\\users\\sjess\\anaconda3\\lib\\site-packages (from typing-inspect<1,>=0.4.0->dataclasses-json<0.6.0,>=0.5.7->langchain==0.0.191) (0.4.3)\n",
      "Requirement already satisfied: pyparsing!=3.0.5,>=2.0.2 in c:\\users\\sjess\\anaconda3\\lib\\site-packages (from packaging>=17.0->marshmallow<4.0.0,>=3.18.0->dataclasses-json<0.6.0,>=0.5.7->langchain==0.0.191) (3.0.9)\n",
      "Requirement already satisfied: chromadb==0.3.29 in c:\\users\\sjess\\anaconda3\\lib\\site-packages (0.3.29)\n",
      "Requirement already satisfied: clickhouse-connect>=0.5.7 in c:\\users\\sjess\\anaconda3\\lib\\site-packages (from chromadb==0.3.29) (0.6.6)\n",
      "Requirement already satisfied: onnxruntime>=1.14.1 in c:\\users\\sjess\\anaconda3\\lib\\site-packages (from chromadb==0.3.29) (1.17.1)\n",
      "Requirement already satisfied: tokenizers>=0.13.2 in c:\\users\\sjess\\anaconda3\\lib\\site-packages (from chromadb==0.3.29) (0.15.2)\n",
      "Requirement already satisfied: hnswlib>=0.7 in c:\\users\\sjess\\anaconda3\\lib\\site-packages (from chromadb==0.3.29) (0.8.0)\n",
      "Requirement already satisfied: pulsar-client>=3.1.0 in c:\\users\\sjess\\anaconda3\\lib\\site-packages (from chromadb==0.3.29) (3.4.0)\n",
      "Requirement already satisfied: duckdb>=0.7.1 in c:\\users\\sjess\\anaconda3\\lib\\site-packages (from chromadb==0.3.29) (0.7.1)\n",
      "Requirement already satisfied: pandas>=1.3 in c:\\users\\sjess\\anaconda3\\lib\\site-packages (from chromadb==0.3.29) (1.4.4)\n",
      "Requirement already satisfied: numpy>=1.21.6 in c:\\users\\sjess\\anaconda3\\lib\\site-packages (from chromadb==0.3.29) (1.24.3)\n",
      "Requirement already satisfied: pydantic<2.0,>=1.9 in c:\\users\\sjess\\anaconda3\\lib\\site-packages (from chromadb==0.3.29) (1.10.14)\n",
      "Requirement already satisfied: requests>=2.28 in c:\\users\\sjess\\anaconda3\\lib\\site-packages (from chromadb==0.3.29) (2.28.1)\n",
      "Requirement already satisfied: posthog>=2.4.0 in c:\\users\\sjess\\anaconda3\\lib\\site-packages (from chromadb==0.3.29) (3.4.2)\n",
      "Requirement already satisfied: typing-extensions>=4.5.0 in c:\\users\\sjess\\anaconda3\\lib\\site-packages (from chromadb==0.3.29) (4.10.0)\n",
      "Requirement already satisfied: overrides>=7.3.1 in c:\\users\\sjess\\anaconda3\\lib\\site-packages (from chromadb==0.3.29) (7.7.0)\n",
      "Requirement already satisfied: tqdm>=4.65.0 in c:\\users\\sjess\\anaconda3\\lib\\site-packages (from chromadb==0.3.29) (4.66.2)\n",
      "Requirement already satisfied: uvicorn[standard]>=0.18.3 in c:\\users\\sjess\\anaconda3\\lib\\site-packages (from chromadb==0.3.29) (0.27.1)\n",
      "Requirement already satisfied: fastapi==0.85.1 in c:\\users\\sjess\\anaconda3\\lib\\site-packages (from chromadb==0.3.29) (0.85.1)\n",
      "Requirement already satisfied: starlette==0.20.4 in c:\\users\\sjess\\anaconda3\\lib\\site-packages (from fastapi==0.85.1->chromadb==0.3.29) (0.20.4)\n",
      "Requirement already satisfied: anyio<5,>=3.4.0 in c:\\users\\sjess\\anaconda3\\lib\\site-packages (from starlette==0.20.4->fastapi==0.85.1->chromadb==0.3.29) (3.5.0)\n",
      "Requirement already satisfied: certifi in c:\\users\\sjess\\anaconda3\\lib\\site-packages (from clickhouse-connect>=0.5.7->chromadb==0.3.29) (2022.12.7)\n",
      "Requirement already satisfied: zstandard in c:\\users\\sjess\\anaconda3\\lib\\site-packages (from clickhouse-connect>=0.5.7->chromadb==0.3.29) (0.22.0)\n",
      "Requirement already satisfied: importlib-metadata in c:\\users\\sjess\\anaconda3\\lib\\site-packages (from clickhouse-connect>=0.5.7->chromadb==0.3.29) (6.11.0)\n",
      "Requirement already satisfied: pytz in c:\\users\\sjess\\anaconda3\\lib\\site-packages (from clickhouse-connect>=0.5.7->chromadb==0.3.29) (2023.3)\n",
      "Requirement already satisfied: urllib3>=1.26 in c:\\users\\sjess\\anaconda3\\lib\\site-packages (from clickhouse-connect>=0.5.7->chromadb==0.3.29) (1.26.16)\n",
      "Requirement already satisfied: lz4 in c:\\users\\sjess\\anaconda3\\lib\\site-packages (from clickhouse-connect>=0.5.7->chromadb==0.3.29) (3.1.3)\n",
      "Requirement already satisfied: flatbuffers in c:\\users\\sjess\\anaconda3\\lib\\site-packages (from onnxruntime>=1.14.1->chromadb==0.3.29) (23.5.26)\n",
      "Requirement already satisfied: coloredlogs in c:\\users\\sjess\\anaconda3\\lib\\site-packages (from onnxruntime>=1.14.1->chromadb==0.3.29) (15.0.1)\n",
      "Requirement already satisfied: sympy in c:\\users\\sjess\\anaconda3\\lib\\site-packages (from onnxruntime>=1.14.1->chromadb==0.3.29) (1.10.1)\n",
      "Requirement already satisfied: protobuf in c:\\users\\sjess\\anaconda3\\lib\\site-packages (from onnxruntime>=1.14.1->chromadb==0.3.29) (4.24.2)\n",
      "Requirement already satisfied: packaging in c:\\users\\sjess\\anaconda3\\lib\\site-packages (from onnxruntime>=1.14.1->chromadb==0.3.29) (21.3)\n",
      "Requirement already satisfied: python-dateutil>=2.8.1 in c:\\users\\sjess\\anaconda3\\lib\\site-packages (from pandas>=1.3->chromadb==0.3.29) (2.8.2)\n",
      "Requirement already satisfied: six>=1.5 in c:\\users\\sjess\\anaconda3\\lib\\site-packages (from posthog>=2.4.0->chromadb==0.3.29) (1.16.0)\n",
      "Requirement already satisfied: monotonic>=1.5 in c:\\users\\sjess\\anaconda3\\lib\\site-packages (from posthog>=2.4.0->chromadb==0.3.29) (1.6)\n",
      "Requirement already satisfied: backoff>=1.10.0 in c:\\users\\sjess\\anaconda3\\lib\\site-packages (from posthog>=2.4.0->chromadb==0.3.29) (2.2.1)\n",
      "Requirement already satisfied: charset-normalizer<3,>=2 in c:\\users\\sjess\\anaconda3\\lib\\site-packages (from requests>=2.28->chromadb==0.3.29) (2.0.4)\n",
      "Requirement already satisfied: idna<4,>=2.5 in c:\\users\\sjess\\anaconda3\\lib\\site-packages (from requests>=2.28->chromadb==0.3.29) (3.3)\n",
      "Requirement already satisfied: huggingface_hub<1.0,>=0.16.4 in c:\\users\\sjess\\anaconda3\\lib\\site-packages (from tokenizers>=0.13.2->chromadb==0.3.29) (0.21.1)\n",
      "Requirement already satisfied: colorama in c:\\users\\sjess\\anaconda3\\lib\\site-packages (from tqdm>=4.65.0->chromadb==0.3.29) (0.4.5)\n",
      "Requirement already satisfied: h11>=0.8 in c:\\users\\sjess\\anaconda3\\lib\\site-packages (from uvicorn[standard]>=0.18.3->chromadb==0.3.29) (0.14.0)\n",
      "Requirement already satisfied: click>=7.0 in c:\\users\\sjess\\anaconda3\\lib\\site-packages (from uvicorn[standard]>=0.18.3->chromadb==0.3.29) (8.0.4)\n",
      "Requirement already satisfied: watchfiles>=0.13 in c:\\users\\sjess\\anaconda3\\lib\\site-packages (from uvicorn[standard]>=0.18.3->chromadb==0.3.29) (0.21.0)\n",
      "Requirement already satisfied: httptools>=0.5.0 in c:\\users\\sjess\\anaconda3\\lib\\site-packages (from uvicorn[standard]>=0.18.3->chromadb==0.3.29) (0.6.1)\n",
      "Requirement already satisfied: websockets>=10.4 in c:\\users\\sjess\\anaconda3\\lib\\site-packages (from uvicorn[standard]>=0.18.3->chromadb==0.3.29) (10.4)\n",
      "Requirement already satisfied: pyyaml>=5.1 in c:\\users\\sjess\\anaconda3\\lib\\site-packages (from uvicorn[standard]>=0.18.3->chromadb==0.3.29) (6.0)\n",
      "Requirement already satisfied: python-dotenv>=0.13 in c:\\users\\sjess\\anaconda3\\lib\\site-packages (from uvicorn[standard]>=0.18.3->chromadb==0.3.29) (1.0.1)\n",
      "Requirement already satisfied: filelock in c:\\users\\sjess\\anaconda3\\lib\\site-packages (from huggingface_hub<1.0,>=0.16.4->tokenizers>=0.13.2->chromadb==0.3.29) (3.6.0)\n",
      "Requirement already satisfied: fsspec>=2023.5.0 in c:\\users\\sjess\\anaconda3\\lib\\site-packages (from huggingface_hub<1.0,>=0.16.4->tokenizers>=0.13.2->chromadb==0.3.29) (2024.2.0)\n",
      "Requirement already satisfied: pyparsing!=3.0.5,>=2.0.2 in c:\\users\\sjess\\anaconda3\\lib\\site-packages (from packaging->onnxruntime>=1.14.1->chromadb==0.3.29) (3.0.9)\n",
      "Requirement already satisfied: humanfriendly>=9.1 in c:\\users\\sjess\\anaconda3\\lib\\site-packages (from coloredlogs->onnxruntime>=1.14.1->chromadb==0.3.29) (10.0)\n",
      "Requirement already satisfied: zipp>=0.5 in c:\\users\\sjess\\anaconda3\\lib\\site-packages (from importlib-metadata->clickhouse-connect>=0.5.7->chromadb==0.3.29) (3.8.0)\n",
      "Requirement already satisfied: mpmath>=0.19 in c:\\users\\sjess\\anaconda3\\lib\\site-packages (from sympy->onnxruntime>=1.14.1->chromadb==0.3.29) (1.2.1)\n",
      "Requirement already satisfied: sniffio>=1.1 in c:\\users\\sjess\\anaconda3\\lib\\site-packages (from anyio<5,>=3.4.0->starlette==0.20.4->fastapi==0.85.1->chromadb==0.3.29) (1.2.0)\n",
      "Requirement already satisfied: pyreadline3 in c:\\users\\sjess\\anaconda3\\lib\\site-packages (from humanfriendly>=9.1->coloredlogs->onnxruntime>=1.14.1->chromadb==0.3.29) (3.4.1)\n",
      "Requirement already satisfied: tiktoken in c:\\users\\sjess\\anaconda3\\lib\\site-packages (0.6.0)\n",
      "Requirement already satisfied: requests>=2.26.0 in c:\\users\\sjess\\anaconda3\\lib\\site-packages (from tiktoken) (2.28.1)\n",
      "Requirement already satisfied: regex>=2022.1.18 in c:\\users\\sjess\\anaconda3\\lib\\site-packages (from tiktoken) (2022.7.9)\n",
      "Requirement already satisfied: idna<4,>=2.5 in c:\\users\\sjess\\anaconda3\\lib\\site-packages (from requests>=2.26.0->tiktoken) (3.3)\n",
      "Requirement already satisfied: certifi>=2017.4.17 in c:\\users\\sjess\\anaconda3\\lib\\site-packages (from requests>=2.26.0->tiktoken) (2022.12.7)\n",
      "Requirement already satisfied: urllib3<1.27,>=1.21.1 in c:\\users\\sjess\\anaconda3\\lib\\site-packages (from requests>=2.26.0->tiktoken) (1.26.16)\n",
      "Requirement already satisfied: charset-normalizer<3,>=2 in c:\\users\\sjess\\anaconda3\\lib\\site-packages (from requests>=2.26.0->tiktoken) (2.0.4)\n",
      "Requirement already satisfied: beautifulsoup4 in c:\\users\\sjess\\anaconda3\\lib\\site-packages (4.11.1)\n",
      "Requirement already satisfied: soupsieve>1.2 in c:\\users\\sjess\\anaconda3\\lib\\site-packages (from beautifulsoup4) (2.3.1)\n"
     ]
    }
   ],
   "source": [
    "# install langchain (version 0.0.191)\n",
    "!pip install langchain==0.0.191\n",
    "# install chromadb\n",
    "!pip install chromadb==0.3.29\n",
    "# install tiktoken\n",
    "!pip install tiktoken\n",
    "# install beautifulsoup4\n",
    "!pip install beautifulsoup4"
   ]
  },
  {
   "cell_type": "markdown",
   "metadata": {
    "id": "Ot1CoDdKuC8D"
   },
   "source": [
    "# Task 1: Load Data\n",
    "\n",
    "To be able to embed and store data, we need to provide LangChain with Documents. This is easy to achieve in LangChain thanks to Document Loaders. In our case, we're targeting a \"Read the docs\" documentation, for which there is a loader ReadTheDocsLoader. In the folder rtdocs, you'll find all the HTML files from the [LangChain documentation](https://python.langchain.com/en/latest/index.html).\n",
    "\n",
    "```bash\n",
    "wget -r -A.html -P rtdocs https://python.langchain.com/en/latest/\n",
    "```\n",
    "\n",
    "In a bash console execute this code:\n",
    "```bash\n",
    "unzip contents.zip\n",
    "```\n",
    "\n",
    "Our first task is to load these HTML files as documents that we can use with langchain: we're going to use the ReadTheDocsLoader. It will read the directory containing all HTML files and transform them into Document objects.\n",
    "\n",
    "`ReadTheDocsLoader` will read each HTML file, remove HTML tags to only keep the text and return it as a Document. At the end of this task, we'll have a variable raw_documents containing a list of Document: one Document per HTML file."
   ]
  },
  {
   "cell_type": "code",
   "execution_count": 2,
   "metadata": {},
   "outputs": [
    {
     "name": "stdout",
     "output_type": "stream",
     "text": [
      "Requirement already satisfied: pypdf in c:\\users\\sjess\\anaconda3\\lib\\site-packages (4.1.0)\n",
      "Requirement already satisfied: typing_extensions>=3.7.4.3 in c:\\users\\sjess\\anaconda3\\lib\\site-packages (from pypdf) (4.10.0)\n"
     ]
    }
   ],
   "source": [
    "!pip install pypdf"
   ]
  },
  {
   "cell_type": "code",
   "execution_count": 3,
   "metadata": {},
   "outputs": [],
   "source": [
    "# Import ReadTheDocsLoader\n",
    "from langchain.document_loaders import PyPDFLoader\n",
    "\n",
    "loader = PyPDFLoader(\"building-the-ai-bank-of-the-future.pdf\")\n",
    "pages = loader.load()"
   ]
  },
  {
   "cell_type": "code",
   "execution_count": 4,
   "metadata": {
    "id": "jluZ26M1uC8M"
   },
   "outputs": [
    {
     "name": "stdout",
     "output_type": "stream",
     "text": [
      "Size raw documents:  66\n"
     ]
    }
   ],
   "source": [
    "print(\"Size raw documents: \",len(pages))"
   ]
  },
  {
   "cell_type": "markdown",
   "metadata": {
    "id": "Kw6VSvvwuC8M"
   },
   "source": [
    "# Task 2: Slice the documents into smaller chunks\n",
    "\n",
    "Now, we turned each HTML file into a Document. These files may be very long, and are potentially too large to embed fully. It's also a good practice to avoid embedding large documents:\n",
    "- long documents often contain several concepts. Retrieval will be easier if each concept is indexed separately;\n",
    "- retrieved documents will be injected in a prompt, so keeping them short will keep the prompt small.\n",
    "\n",
    "LangChain has a collection of tools to do this:\n",
    "[Text Splitters](https://python.langchain.com/en/latest/modules/indexes/text_splitters.html).\n",
    "\n",
    "We'll be using the most straightfoward one and simplest to use:\n",
    "the [Recursive Character Text Splitter](https://python.langchain.com/en/latest/modules/indexes/text_splitters/examples/recursive_text_splitter.html).\n",
    "\n",
    "*The `recursive text splitter` will recursively reduce the input by splitting it by paragraph, then sentences, then words as needed until the chunk is small enough.*\n",
    "​"
   ]
  },
  {
   "cell_type": "code",
   "execution_count": 5,
   "metadata": {
    "id": "v_EaCZmPuC8N"
   },
   "outputs": [],
   "source": [
    "# Import RecursiveCharacterTextSplitter\n",
    "from langchain.text_splitter import RecursiveCharacterTextSplitter\n",
    "\n",
    "# Create the text splitter\n",
    "splitter = RecursiveCharacterTextSplitter(\n",
    "    chunk_size=1000,\n",
    "    chunk_overlap=200\n",
    ")\n",
    "\n",
    "# Split the documents\n",
    "documents = splitter.split_documents(pages)"
   ]
  },
  {
   "cell_type": "code",
   "execution_count": 6,
   "metadata": {
    "id": "omb6HqtjuC8N"
   },
   "outputs": [
    {
     "name": "stdout",
     "output_type": "stream",
     "text": [
      "Size documents:  258\n"
     ]
    }
   ],
   "source": [
    "print(\"Size documents: \",len(documents))"
   ]
  },
  {
   "cell_type": "code",
   "execution_count": 7,
   "metadata": {
    "id": "DN0Vw8a0uC8N"
   },
   "outputs": [
    {
     "data": {
      "text/plain": [
       "Document(page_content='© Getty ImagesGlobal Banking Practice\\nBuilding the AI bank \\nof the future\\nMay 2021', metadata={'source': 'building-the-ai-bank-of-the-future.pdf', 'page': 0})"
      ]
     },
     "execution_count": 7,
     "metadata": {},
     "output_type": "execute_result"
    }
   ],
   "source": [
    "documents[0]"
   ]
  },
  {
   "cell_type": "markdown",
   "metadata": {
    "id": "NDt-AmtTuC8O"
   },
   "source": [
    "# Task 3: count tokens and get a cost estimate of embedding\n",
    "\n",
    "We're ready to embed our documents. Before we do so, we'd like to get an idea of how big it is and how much it will cost to embed. To do so, we'll use the [`tiktoken`](https://github.com/openai/tiktoken) library. tiktoken allows to encode and decode strings of text into tokens. In our case, we're mostly interested in how many tokens our documents translate to.\n",
    "\n",
    "> 💡 To better understand what a token is to GPT, head to [OpenAI's Tokenizer page](https://platform.openai.com/tokenizer) where you can see how a text translates to tokens.\n",
    "\n",
    "Prices for different models in OpenAI can be found on their [pricing page](https://openai.com/pricing).\n",
    "\n",
    "Prices for different models in Azure OpenAI can be found on their [pricing page]([Title](https://azure.microsoft.com/en-us/pricing/details/cognitive-services/openai-service/))"
   ]
  },
  {
   "cell_type": "code",
   "execution_count": 8,
   "metadata": {
    "id": "5MArDTyquC8O"
   },
   "outputs": [
    {
     "name": "stdout",
     "output_type": "stream",
     "text": [
      "Total tokens: 46467 - cost: $0.02\n"
     ]
    }
   ],
   "source": [
    "# Import tiktoken\n",
    "import tiktoken\n",
    "\n",
    "# Create an encoder\n",
    "encoder = tiktoken.encoding_for_model(\"text-embedding-ada-002\")\n",
    "\n",
    "# Count tokens in each document\n",
    "doc_tokens = [len(encoder.encode(doc.page_content)) for doc in documents]\n",
    "\n",
    "# Calculate the sum of all token counts\n",
    "total_tokens = sum(doc_tokens)\n",
    "\n",
    "# Calculate a cost estimate\n",
    "cost = (total_tokens/1000) * 0.0004\n",
    "print(f\"Total tokens: {total_tokens} - cost: ${cost:.2f}\")"
   ]
  },
  {
   "cell_type": "markdown",
   "metadata": {
    "id": "a3pT2p7QuC8P"
   },
   "source": [
    "# Task 4: embed the documents and store embeddings in the vector database\n",
    "\n",
    "We'll want to save the embeddings into a database. LangChain can take care of all that using a [Vector Store](https://python.langchain.com/en/latest/modules/indexes/vectorstores.html).\n",
    "\n",
    "There are plenty of vector stores to choose from (see the [full list](https://python.langchain.com/en/latest/modules/indexes/vectorstores.html)). Today we'll use [Chroma](https://docs.trychroma.com/), but you could be using any other as they have the same interface in LangChain. Once again you'll need to try many of them to see which best fits your use case: some vector stores have specific features (like multimodality or multilingual), so be sure to check them out.\n",
    "\n",
    "Chroma is simple to use and can be persisted to disk. If you do not whish to embed the full set of documents yourself, feel free to skip this step and use the provided folder `chroma-data-langchain-docs`: we've already embedded all documents and persisted it in this folder."
   ]
  },
  {
   "cell_type": "code",
   "execution_count": 9,
   "metadata": {
    "id": "TkyLvGL2uC8P"
   },
   "outputs": [],
   "source": [
    "# set the environment variables needed for openai package to know to reach out to azure\n",
    "import os\n",
    "\n",
    "os.environ[\"OPENAI_API_TYPE\"] = \"azure\"\n",
    "os.environ[\"OPENAI_API_BASE\"] = \"https://classbi-openai-02.openai.azure.com/\"\n",
    "os.environ[\"OPENAI_API_KEY\"] = \"3ba3c7f85c2c42589bea7b95f041c079\"\n",
    "os.environ[\"OPENAI_API_VERSION\"] = \"2023-03-15-preview\""
   ]
  },
  {
   "cell_type": "code",
   "execution_count": 36,
   "metadata": {
    "id": "nqo678q8uC8P"
   },
   "outputs": [
    {
     "name": "stderr",
     "output_type": "stream",
     "text": [
      "ERROR: Invalid requirement: '=='\n"
     ]
    }
   ],
   "source": [
    "!pip install openai == 0.28.1"
   ]
  },
  {
   "cell_type": "code",
   "execution_count": 10,
   "metadata": {
    "id": "jjny3yPJuC8P"
   },
   "outputs": [],
   "source": [
    "# Import chroma\n",
    "from langchain.vectorstores import Chroma\n",
    "\n",
    "# Import OpenAIEmbeddings\n",
    "from langchain.embeddings.openai import OpenAIEmbeddings\n",
    "\n",
    "# Create the mebedding function\n",
    "embedding_function = OpenAIEmbeddings(deployment=\"text-embedding-ada-002\",chunk_size = 1)"
   ]
  },
  {
   "cell_type": "code",
   "execution_count": 11,
   "metadata": {
    "id": "zcbWKiQXuC8P"
   },
   "outputs": [
    {
     "name": "stdout",
     "output_type": "stream",
     "text": [
      "[-0.012424956075847149, 0.010575136169791222, 0.0013741046423092484, -0.009136387147009373, -0.008970632217824459, 0.014228364452719688, -0.008141860365867615, 0.001561407232657075, -0.0069749485701322556, -0.023987988010048866, 0.008705425076186657, 0.008930851705372334, -0.01381729356944561, -0.0033681311178952456, -0.0032322125043720007, 0.004899702500551939, 0.016243938356637955, -0.016601968556642532, 0.014162062667310238, -0.029650161042809486, -0.012710053473711014, 0.013452633284032345, 0.00537044508382678, 0.012729944661259651, -0.029411476105451584, -0.003858764423057437, 0.020275088027119637, -0.026865486055612564, 0.022900639101862907, -0.02088506519794464, 0.0019989991560578346, 0.0057682557962834835, 0.013671429827809334, -0.04102754965424538, -0.011151961982250214, -0.011311085894703865, 0.012716683559119701, -0.02241000533103943, -0.0032869114074856043, 0.004617919679731131, -0.011748678050935268, 0.01739758998155594, 0.006364972330629826, -0.027077652513980865, -0.012100077234208584, 0.0030299918726086617, -0.004472055938094854, -0.001790148438885808, -0.018113650381565094, 0.008141860365867615, 0.03391999751329422, -0.008572821505367756, -0.03874676674604416, -0.007021359633654356, -0.007445691153407097, -0.0060400934889912605, -0.0022791242226958275, 0.03026013821363449, 0.012444846332073212, -0.006149491295218468, -0.008897700347006321, 0.014520092867314816, -0.010966316796839237, -0.025048816576600075, -0.008652384392917156, -0.016601968556642532, 0.02002314105629921, 0.01003809180110693, 0.011993994005024433, 0.001974135870113969, 0.01446705125272274, 0.012292352505028248, -0.0018349020974710584, -0.02283433824777603, 0.019718153402209282, -0.003944956697523594, -0.00689538661390543, 0.0011122125433757901, 0.006185957230627537, 0.005844503175467253, 0.018299294635653496, -0.03004797175526619, -0.012809506617486477, 0.033177416771650314, 0.003255418036133051, -0.005605816375464201, -0.007074401248246431, 0.02882801927626133, 0.007180484011769295, 0.009328662417829037, 0.006543986964970827, 0.012106707319617271, 0.02376256324350834, 0.010992837138473988, 0.006192587316036224, 0.03983411565423012, -0.00612297048792243, 0.04121319577097893, -0.010303298942744732, -0.027952834963798523, -0.005738419946283102, -0.005910804960876703, -0.008924221619963646, 0.00022439012536779046, -0.04741904139518738, -0.027024609968066216, 0.017264986410737038, 0.005128443706780672, 0.012086817063391209, -0.008937481790781021, -0.011072399094700813, 0.011821609921753407, 0.0058113522827625275, -0.0500180721282959, 0.016628488898277283, 0.025154899805784225, -0.007691008038818836, -0.0015713524771854281, -0.013870335184037685, -0.013525566086173058, 0.028271084651350975, 0.01654892787337303, -0.0023056447971612215, 0.0022907268721610308, 0.029650161042809486, 0.003895230358466506, -0.014864861965179443, -0.02755502425134182, 0.006709741428494453, -0.002967005129903555, 0.021495040506124496, 0.01194758340716362, 0.020314868539571762, 0.01101272739470005, -0.009540827944874763, 0.02394820749759674, -0.0064942603930830956, 0.013028302229940891, -0.04813510179519653, -0.021388959139585495, 0.01265038177371025, 0.02646767534315586, 0.0020304922945797443, -0.009129757061600685, -0.009580609388649464, 0.006156121380627155, -0.013910115696489811, 0.019002093002200127, -0.0010740890866145492, -0.027316339313983917, -0.0021829865872859955, -0.010283407755196095, 0.016562188044190407, -0.006298670079559088, 0.017185425385832787, 0.03519299253821373, 0.0018912586383521557, 0.000441735697677359, -0.0027879904955625534, -0.0023122751154005527, 0.004326192196458578, -0.004730632994323969, -0.019081655889749527, -0.006401438266038895, 0.01810039021074772, 0.02373604103922844, 0.011384017765522003, -0.008811508305370808, 0.010164065286517143, -0.013896855525672436, 0.003712900448590517, 0.03495430573821068, -0.02091158553957939, 0.014758778735995293, -0.004601344466209412, -0.016482625156641006, 0.016084814444184303, -0.012418325990438461, -0.00910323578864336, -0.014785300008952618, -0.022370224818587303, 0.014811820350587368, 0.009202688932418823, 0.013147645629942417, -0.021229833364486694, 0.004021203611046076, 0.011768568307161331, -0.03909153863787651, -0.0028973883017897606, -0.026056604459881783, 0.01501072570681572, 0.030976196750998497, 0.010190585628151894, 0.026613539084792137, -0.6874169707298279, -0.008433587849140167, 0.0024150428362190723, -0.02018226496875286, 0.01170226652175188, 0.03397303819656372, 0.012444846332073212, 0.0029073336627334356, -0.002615605713799596, 0.00873857643455267, -0.0010235338704660535, -0.0038289285730570555, -0.013247097842395306, -0.02275477536022663, 0.006988208740949631, -0.02693178877234459, -0.013459264300763607, -0.013578606769442558, 0.013154275715351105, 0.0018349020974710584, 0.003305144375190139, 0.007783830631524324, -0.019121436402201653, 0.012146488763391972, 0.0028012506663799286, 0.010992837138473988, 1.986463939829264e-05, -0.004604659508913755, 0.03134748712182045, 0.011165222153067589, -0.009089975617825985, -0.0016045033698901534, -0.007465581875294447, 0.012531038373708725, 0.03633338212966919, -0.010800561867654324, -0.008254572749137878, -0.009501046501100063, 0.012212790548801422, 0.031002718955278397, -0.020924845710396767, 0.012206160463392735, 0.016124596819281578, -0.008705425076186657, -0.029305392876267433, -9.059518197318539e-05, 0.034583013504743576, -0.01693347841501236, 0.0022426580544561148, 0.0010807191720232368, -0.007750679738819599, -0.0008660671883262694, 0.009441375732421875, 0.0052544171921908855, 0.018789928406476974, -0.005804721731692553, 0.03028665855526924, -0.007140703033655882, 0.019625330343842506, 0.02085854485630989, -0.012544299475848675, 0.01186802051961422, -0.021137012168765068, -0.008002626709640026, -0.015952210873365402, 0.0008097106474451721, -0.028536291792988777, 0.016641749069094658, 0.018445158377289772, -0.01825951412320137, 0.0032835963647812605, 0.01833907514810562, -0.010210475884377956, -0.0034543233923614025, 0.017702579498291016, 0.024637745693325996, 0.0018249568529427052, -0.018869489431381226, -0.010004940442740917, 0.00614286120980978, -0.003265363397076726, 0.008519780822098255, -0.021044189110398293, -0.011384017765522003, 0.02682570554316044, -0.010422641411423683, -0.01872362568974495, 0.002589084906503558, -0.00015612000424880534, 0.012902328744530678, 0.02430623769760132, 0.005645597819238901, -0.002284096786752343, -0.004409069195389748, 0.01119174249470234, 0.02370952069759369, 0.002345426008105278, 0.00648100022226572, 0.024266455322504044, -0.005486473441123962, -0.023484094068408012, 0.0016567159909754992, 0.02397472783923149, 0.009779514744877815, 0.018657324835658073, 0.007041250355541706, -0.022396745160222054, 0.016190897673368454, 0.02644115500152111, -0.03259396180510521, -0.00781698152422905, -0.015382016077637672, -0.005625707097351551, 0.004700797144323587, 0.00018554143025539815, -0.03917109966278076, -0.0005594213725998998, 0.005317403934895992, 0.018763408064842224, -0.031877901405096054, 0.03285916894674301, -0.0017686003120616078, 0.029146268963813782, 0.00759155536070466, -0.011901171877980232, 0.010913275182247162, -0.01293548010289669, -0.011967473663389683, -0.010435902513563633, 0.00822142232209444, -0.004070930182933807, -6.428165943361819e-05, 0.006915276870131493, -0.002660359488800168, 0.019704893231391907, -0.004594714380800724, 0.005735104903578758, 0.003712900448590517, 0.012497887946665287, 0.0030299918726086617, 0.004753838758915663, -0.0004042337532155216, -0.016217418015003204, -0.015023985877633095, -0.014639436267316341, 0.0013152618193998933, -0.030710989609360695, 0.004594714380800724, -0.0031659104861319065, 0.007558404467999935, -0.0025691944174468517, -5.557954864343628e-05, 0.011470209807157516, 0.009540827944874763, -0.006242313887923956, 0.002153150737285614, -0.0065903980284929276, -0.024770349264144897, -0.021083969622850418, -0.009766253642737865, 0.0063450816087424755, 0.035590801388025284, -0.013406222686171532, 0.008168380707502365, -0.01609807461500168, 0.029835807159543037, 0.010356339626014233, 0.031029239296913147, -0.024770349264144897, -0.027899794280529022, -0.016429584473371506, 0.011244784109294415, -0.0007119154906831682, 0.014069240540266037, -0.005211320705711842, 0.00440243910998106, -0.017331289127469063, -0.01105250883847475, 0.0021863016299903393, -0.015382016077637672, 0.0030830332543700933, 0.004150492139160633, -0.02085854485630989, -0.0052709924057126045, 0.004017888568341732, 0.008015886880457401, -0.008228052407503128, 0.014679216779768467, -0.020818762481212616, 0.016893696039915085, 0.0021962469909340143, 0.03254092112183571, -0.006520781200379133, 0.0034211724996566772, -0.0018232993315905333, -0.010422641411423683, -0.0038620794657617807, -0.0039880527183413506, 0.016323501244187355, 0.017225205898284912, 0.049567218869924545, 0.007299827411770821, -0.0018663954688236117, -0.025963781401515007, 0.009912118315696716, -0.010992837138473988, -0.011450319550931454, -0.0029968409799039364, 0.045721717178821564, 0.012776355259120464, 0.0025807972997426987, -0.007160593755543232, -0.0009423142182640731, 0.004820140544325113, 0.0036333382595330477, 0.006507521029561758, -0.006795933935791254, 0.01276309508830309, -0.006179327145218849, -0.0073594991117715836, 0.0048334007151424885, 0.005019045900553465, 0.02438579872250557, -0.007193744648247957, -0.018458418548107147, -0.008267833851277828, 0.0036963250022381544, 0.027183735743165016, 0.010747520253062248, -0.03177182003855705, -0.03307133540511131, 0.003207349218428135, 0.002942142076790333, 0.018630804494023323, 0.0008001797832548618, -0.0007160593522712588, 0.01010439358651638, 0.0029139637481421232, 0.028191521763801575, -0.006726316642016172, 0.0037825172767043114, 0.020248567685484886, 0.03850807994604111, -0.010303298942744732, 0.03662510961294174, 0.024372538551688194, 0.0003176270402036607, 0.008082188665866852, -0.017145643010735512, 0.049567218869924545, -0.014374228194355965, 0.006013572681695223, -0.009202688932418823, 0.010150804184377193, 0.00597379170358181, -0.02370952069759369, -0.003209006739780307, -0.028218042105436325, 0.03354870527982712, 0.02059333771467209, -0.006560562178492546, 0.010097762569785118, 0.006272149737924337, -0.006504205986857414, 0.0004224667209200561, -0.02083202265202999, -0.0017022985266521573, 0.006620233878493309, -0.011708896607160568, -0.015421796590089798, -0.02784675359725952, -0.023311709985136986, 0.0031874587293714285, -0.00042205234058201313, 0.024770349264144897, 0.006335136480629444, 0.01893579214811325, 0.002832744037732482, 0.03028665855526924, 0.010429272428154945, -0.013048192486166954, -0.033177416771650314, 0.002552618971094489, -0.002277466468513012, 0.01379077322781086, -0.01372447144240141, -0.027183735743165016, -0.015753306448459625, -0.005920750088989735, 0.018736885860562325, 0.012119967490434647, 0.012411695905029774, 0.016111334785819054, -0.0042764656245708466, 0.0010740890866145492, -0.0023570286575704813, 0.005383705720305443, 0.0035869269631803036, -0.01698651909828186, -0.023126065731048584, -0.0014992492506280541, -0.0058279274962842464, 0.019413165748119354, 0.00513507379218936, 0.011311085894703865, 0.014294666238129139, -0.00901041366159916, -0.019864017143845558, -0.012809506617486477, -0.007565034553408623, 0.017649536952376366, -0.003603502409532666, -0.018644064664840698, -0.011755308136343956, 0.006016887724399567, -0.007412540260702372, -0.024041030555963516, -0.0023404532112181187, 0.019718153402209282, 0.01323383767157793, -0.03230223432183266, 0.015063767321407795, -0.004289725795388222, 0.0034510083496570587, 0.07160593569278717, 0.00561576196923852, 0.021017668768763542, 0.010057982057332993, -0.024200154468417168, -0.017357809469103813, -0.020301608368754387, -0.0047737290151417255, -0.0017868332797661424, 0.011045878753066063, -0.018272774294018745, -0.0028211413882672787, 0.012100077234208584, -0.012862548232078552, 0.008314244449138641, 0.013247097842395306, 0.0025360435247421265, -0.0018597652669996023, 0.025499669834971428, -0.017954524606466293, -0.012464736588299274, -0.0026354962028563023, 0.006467740051448345, -0.020434211939573288, -0.012809506617486477, 0.0026222357992082834, 0.01646936498582363, -0.012524408288300037, 0.011669115163385868, -0.02654723823070526, -0.0109464256092906, -0.002985238330438733, 0.009666801430284977, 0.01674783229827881, -0.006766098085790873, 0.012537669390439987, -0.016999779269099236, 0.009932008571922779, 0.006378232501447201, 0.0036101327277719975, -0.010747520253062248, 0.005290883127599955, 0.003096293658018112, 0.008506519719958305, 0.01739758998155594, -0.015461578033864498, -0.00840043742209673, 0.0156339630484581, -0.015753306448459625, -0.01027014758437872, 0.024664266034960747, -0.010628177784383297, -0.001583784120157361, 0.0036863796412944794, 0.01064806804060936, 0.008950741961598396, -0.010150804184377193, -0.015700263902544975, 0.003762626787647605, -0.02241000533103943, -0.01695999875664711, -0.005360499955713749, 0.003048224840313196, 0.013936636969447136, -0.0125840799883008, -0.019121436402201653, -0.008234682492911816, -0.007618076168000698, -0.013684689998626709, 0.009739733301103115, 0.01817995123565197, -0.013048192486166954, -0.021229833364486694, -0.02305976301431656, 0.01823299378156662, 0.012066925875842571, 0.0013807348441332579, -0.00312281446531415, -0.010197215713560581, 0.016840655356645584, 0.017729099839925766, -0.041955772787332535, -0.014665956608951092, -0.01839211769402027, -0.010362970642745495, 0.018471678718924522, 0.006176012102514505, -0.0023785769008100033, -0.002834401559084654, 0.00997179001569748, 0.01615111716091633, -0.006759467534720898, 0.024478621780872345, -0.011105550453066826, -0.022158058360219002, 0.012226050719618797, 0.006477685179561377, 0.009912118315696716, 0.01768931746482849, 0.005164909642189741, 0.008851289749145508, -0.029703203588724136, -0.024757089093327522, -0.010787301696836948, 0.0009870679350569844, -0.015567661263048649, 0.004475370980799198, 0.012444846332073212, -0.018524721264839172, -0.006374917458742857, 0.0016592023894190788, -0.019678372889757156, -0.0044853161089122295, -0.004531727638095617, 0.03399955853819847, 0.013127755373716354, -0.0012274119071662426, 0.013379701413214207, 0.009739733301103115, -0.008990523405373096, 0.014122282154858112, -0.01760975643992424, 0.03720856457948685, 0.008771726861596107, 0.0047737290151417255, 0.003848819062113762, 0.005529569461941719, -0.03482170030474663, -0.02007618360221386, 0.015328974463045597, -0.003388021606951952, 0.004594714380800724, -0.017105862498283386, -0.03285916894674301, -0.021786769852042198, -0.019360123202204704, -0.004206848796457052, 0.002605660352855921, -0.01371121034026146, -0.02140221931040287, -0.004167067818343639, 0.01574004627764225, 0.022807816043496132, -0.019784454256296158, -0.039330221712589264, -0.021932633593678474, -0.008241312578320503, -0.0028227989096194506, -0.016217418015003204, -0.017967786639928818, 0.007492102682590485, 0.014162062667310238, -0.018962312489748, -0.03007449395954609, 8.816066838335246e-05, -0.03413216397166252, -0.012444846332073212, -0.00945463590323925, 0.03028665855526924, 0.03532559424638748, 0.045774757862091064, -0.016111334785819054, 0.013512304984033108, 0.00513507379218936, -0.014652696438133717, -0.001210007700137794, 0.0049461135640740395, -0.006149491295218468, -0.01763627678155899, 0.005957216024398804, 0.017344549298286438, 0.0016666613519191742, -0.004482001066207886, 0.009786144830286503, 0.009421484544873238, 0.021614383906126022, -0.0010807191720232368, -0.003964847419410944, -0.013247097842395306, -0.01562070194631815, -0.012100077234208584, -0.009633650071918964, -0.0015895854448899627, 0.0024001249112188816, -0.007027990184724331, 0.0008992180810309947, 0.023523876443505287, 0.015169850550591946, 0.011132070794701576, 0.002469741739332676, 0.01768931746482849, -0.01901535503566265, 0.0051748547703027725, 0.011523251421749592, 0.002060328144580126, -0.025154899805784225, -0.007498732767999172, -0.012033775448799133, 0.0050621419213712215, 0.011330976150929928, 0.0016260514967143536, 0.005993681959807873, 0.005678748711943626, -0.003809038084000349, -0.014241624623537064, 0.005506363697350025, -0.017211945727467537, -0.014573134481906891, 0.008612602949142456, 0.0006456137052737176, -0.019850756973028183, -0.05633000284433365, -0.017861703410744667, -0.01804734766483307, 0.019983360543847084, 0.02002314105629921, -0.007923063822090626, -0.0023918370716273785, -0.004415699280798435, -0.010011570528149605, 0.008705425076186657, 0.0032637056428939104, 0.043387893587350845, 0.015461578033864498, 0.01955902948975563, 0.029411476105451584, -0.030525345355272293, -0.022913899272680283, 0.004133916925638914, -0.012955370359122753, -0.0027664422523230314, 0.016867175698280334, 0.02272825501859188, -0.02378908358514309, -0.021906111389398575, 0.013618388213217258, 0.016708051785826683, -0.007293197326362133, -0.02241000533103943, -0.002688537584617734, 0.008300984278321266, 0.0071672238409519196, -0.004442220088094473, -0.0038554491475224495, -0.025207942351698875, 0.028589332476258278, -0.01898883283138275, -0.0011345894308760762, -0.0070346202701330185, -0.004409069195389748, -0.03909153863787651, -0.0031360748689621687, -0.03909153863787651, 0.027051132172346115, 0.011602813377976418, -0.022476308047771454, -0.005861078388988972, -0.008055667392909527, -0.028668895363807678, 0.005967161152511835, 0.01132434606552124, -0.0017719153547659516, 0.01636328175663948, -0.015580921433866024, 0.021693946793675423, 0.015209631063044071, -0.007942955009639263, -0.0023984673898667097, -0.005589241161942482, 0.025260983034968376, 0.01771583966910839, -0.007604815531522036, 0.014639436267316341, 0.003706270130351186, 0.025619013234972954, -0.013021672144532204, -0.001849820022471249, -0.022303923964500427, -0.019161218777298927, 0.010256887413561344, 0.01717216521501541, -0.010077872313559055, 0.01815343089401722, -0.012133227661252022, -0.004634495358914137, 0.007618076168000698, -0.03246135637164116, -0.007100922055542469, 0.005377075169235468, -0.02059333771467209, -0.0014578106347471476, 0.004680906422436237, -0.009507677517831326, 0.02134917676448822, 0.0026189207565039396, -0.0017702578334137797, 0.023073023185133934, 0.028058918192982674, -0.039648473262786865, -0.008997153490781784, 0.008513149805366993, 0.01955902948975563, 0.009766253642737865, 0.014228364452719688, -0.004992525093257427, -0.03506038710474968, 0.011138700880110264, -0.013200687244534492, -0.024120591580867767, -0.04049713537096977, 0.012259201146662235, 0.0057516805827617645, -0.00011892883776454255, -0.019147958606481552, 0.0024150428362190723, 0.007014729548245668, 0.020924845710396767, 0.0013169193407520652, 0.00876509677618742, 0.01293548010289669, 0.0010790616506710649, -0.0158196073025465, 0.01880318857729435, -0.020964626222848892, 0.003835558658465743, 0.02397472783923149, 0.0005262704798951745, -0.0017221890157088637, -0.017649536952376366, -0.007041250355541706, -0.00824794266372919, 0.028350645676255226, -0.012186269275844097, -0.030737511813640594, -0.03150661289691925, 0.0005888427840545774, -0.01231224276125431, 0.006238998845219612, -0.0008793275337666273, 0.0032388425897806883, 0.0046610161662101746, 0.01649588532745838, -0.00643458915874362, 0.009156277403235435, -0.0007102579693309963, -0.00319740385748446, 0.0003607231774367392, -0.02259565144777298, -0.03506038710474968, -0.030392741784453392, -0.025725096464157104, -0.010681218467652798, -0.0012033774983137846, -0.015342234633862972, -0.008784987963736057, -3.268471118644811e-05, -0.03506038710474968, -0.003207349218428135, -0.014878122135996819, -0.005277622491121292, -0.0063450816087424755, -0.003560406155884266, -0.0042565749026834965, 0.027926314622163773, 0.03161269426345825, 0.021853070706129074, -0.02760806679725647, -0.0023288505617529154, 0.009129757061600685, -0.025287503376603127, -0.02015574462711811, 0.012199529446661472, -0.011689006350934505, -0.020739201456308365, 0.017914744094014168, 0.0006725488347001374, 0.008300984278321266, 0.01950598694384098, 0.011695636436343193, -0.028005877509713173, -0.0016401405446231365, 0.004607974551618099, 0.006374917458742857, 0.0038687095511704683, 0.0029454571194946766, -0.02999493107199669, -0.005947270896285772, -0.010011570528149605, 0.004515151958912611, 0.00033586000790819526, 0.002433275803923607, 0.004883126821368933, -0.012630491517484188, -0.00026313523994758725, -0.022980201989412308, -0.002380234422162175, -0.013936636969447136, -0.02649419568479061, -0.004236684646457434, -0.011079029180109501, -0.011788458563387394, 0.02682570554316044, 0.03129444643855095, -0.005834557581692934, -0.0006306957802735269, 0.01688043586909771, -0.016999779269099236, 0.002938827034085989, -0.004730632994323969, -0.022158058360219002, -0.016601968556642532, -0.01514332927763462, 0.022290661931037903, -0.02248956821858883, 0.01280287653207779, -0.00040112584247253835, -0.007260046433657408, -0.01763627678155899, 0.011377387680113316, -0.001006129663437605, -0.015355494804680347, 0.00585113326087594, -0.011218263767659664, -0.013989678584039211, -0.010303298942744732, -0.00781698152422905, 0.0024266457185149193, -0.004730632994323969, 0.008910960517823696, 0.003348240628838539, 0.002476372057572007, -0.022807816043496132, 0.009985050186514854, 0.010827083140611649, -0.0011221577879041433, 0.023046502843499184, 0.21768204867839813, -0.017198685556650162, 0.004780359100550413, 0.04805554077029228, 0.0072865672409534454, 0.048188142478466034, -0.004286410752683878, -0.008440217934548855, -0.00017518176173325628, 0.01498420536518097, 0.002116684801876545, 0.01282939687371254, -0.027183735743165016, -0.0012381860287860036, -0.010906645096838474, -0.009302141144871712, -0.012398434802889824, -0.028483249247074127, -0.010860233567655087, 9.877931006485596e-05, 0.02368300035595894, -0.022913899272680283, 0.01932034268975258, -0.007074401248246431, 0.0069749485701322556, -0.014321187511086464, -0.02874845638871193, 0.009613759815692902, 0.015355494804680347, 0.027130693197250366, -0.011138700880110264, -0.01293548010289669, 0.03240831568837166, -0.004876496735960245, -0.011224893853068352, -0.012385174632072449, 0.009786144830286503, -0.013266989029943943, 0.04757816717028618, 0.03031317889690399, 0.0186971053481102, -0.009859076701104641, -0.01571352407336235, -0.00808881875127554, -0.006762783043086529, 0.004979264456778765, -0.023669740185141563, -0.024770349264144897, 0.011463579721748829, -0.00696168839931488, -0.0155941816046834, -0.016084814444184303, 0.010097762569785118, 0.007896543480455875, 0.008625863119959831, -0.007412540260702372, 0.018405377864837646, -0.002834401559084654, 0.025857700034976006, 0.021601123735308647, -0.004876496735960245, 0.027210256084799767, -0.020487254485487938, 0.01711912266910076, -0.01511680893599987, 0.01924077980220318, -0.006524096243083477, 0.01636328175663948, -0.0012555902358144522, 0.011244784109294415, 0.013525566086173058, -0.0037659418303519487, 0.007982735522091389, 0.0156339630484581, -0.02303324267268181, -0.004714057315140963, 0.03216962888836861, 0.009706582874059677, 0.026083124801516533, 0.0317983403801918, -0.015527879819273949, -0.010720999911427498, -0.028589332476258278, -0.00677272817119956, -0.009083345532417297, -0.022714994847774506, -0.00020626073819585145, -0.012603971175849438, -0.0032869114074856043, -0.014453791081905365, -0.005602501332759857, -0.023046502843499184, -0.0250355564057827, -0.020407691597938538, 0.023961467668414116, 0.032143108546733856, 0.011602813377976418, 0.0077970908023417, 0.00409082043915987, 0.001949272700585425, -0.02465100586414337, 0.027157213538885117, 0.012504518032073975, 0.005406911019235849, -0.00375268142670393, 0.011059138923883438, 0.013525566086173058, 0.008499889634549618, 0.005552775226533413, -0.013001781888306141, -0.002343768486753106, -0.016655011102557182, 0.0022244250867515802, 0.0004042337532155216, 0.016456104815006256, 0.0033184047788381577, 0.010833713226020336, -0.016509145498275757, 0.017278246581554413, -0.001995683880522847, -0.017782140523195267, -0.00234708352945745, -0.0015257700579240918, -0.0033316651824861765, 0.00018937449203804135, -0.01839211769402027, -0.00723352562636137, -0.006189272273331881, -0.00907671544700861, -0.03002145141363144, 0.03015405498445034, 0.010197215713560581, 0.027183735743165016, -0.014520092867314816, -0.011669115163385868, -0.01498420536518097, 0.020301608368754387, 0.005307458341121674, -0.0156870037317276, -0.0030565126799046993, 0.03004797175526619, -0.0011180139845237136, 0.001947615179233253, -0.007120812311768532, 0.021123751997947693, 0.012988520786166191, 0.023152586072683334, -0.02368300035595894, -0.014122282154858112, -0.0012688505230471492, -0.028562812134623528, -0.004786989651620388, 0.0012298983056098223, -0.008413697592914104, 0.04259227216243744, 0.0027780451346188784, -0.010316559113562107, -0.01841863803565502, 0.0035968723241239786, -0.02077898196876049, -0.013339920900762081, -0.0032769660465419292, 0.005761625710874796, -0.0033929941710084677, -0.0016873806016519666, -0.0012000624556094408, -0.17153599858283997, 0.014878122135996819, 0.009129757061600685, -0.018564501777291298, 0.0008412040187977254, -0.02205197699368, 0.03415868431329727, -0.005257732234895229, -0.014055980369448662, -0.0007077716290950775, 0.02492947317659855, -0.000605832610744983, -0.020500514656305313, 0.003885284997522831, 0.0011826582485809922, -0.0017337918980047107, -0.02581791765987873, -0.0124912578612566, 0.028005877509713173, 0.004133916925638914, 0.016973258927464485, -0.0036930099595338106, 0.010263517498970032, -0.011622704565525055, 0.0057317898608744144, -0.0009870679350569844, -0.013419482856988907, 0.035829488188028336, -0.006010257638990879, -0.02262217178940773, 0.010966316796839237, -0.007896543480455875, 0.027289817109704018, 0.026587018743157387, 0.012033775448799133, 0.013910115696489811, 0.024120591580867767, -0.003616762813180685, -0.019519247114658356, 0.0078435018658638, 0.012531038373708725, 0.005164909642189741, -0.004899702500551939, -0.02451840229332447, 0.012782985344529152, 0.014838341623544693, 0.02126961573958397, -0.0019807659555226564, 0.022794555872678757, 0.010396121069788933, 0.02305976301431656, -0.03927718102931976, -0.010774041526019573, -0.00887118000537157, 0.014851601794362068, 0.015130069106817245, -0.005479843355715275, 0.012723313644528389, -0.010813822038471699, -0.008632493205368519, -0.004631180316209793, -0.024133851751685143, -0.003981422632932663, -0.023563656955957413, -0.01625720039010048, -0.013320029713213444, -0.018922531977295876, 0.029756244271993637, 0.0008333306759595871, 0.004607974551618099, -0.004163752775639296, -0.0031327595934271812, -0.0036731192376464605, 0.00595390098169446, 0.01163596473634243, -0.018896011635661125, -0.011151961982250214, 0.033336542546749115, 0.0023139326367527246, -0.008572821505367756, 0.020394431427121162, 0.04540346935391426, 0.0064047533087432384, 0.007995996624231339, 0.004346082452684641, 0.013061453588306904, -0.007094291970133781, 0.009892227128148079, -0.009189428761601448, 0.001147849834524095, 0.013074713759124279, -0.033283498138189316, -0.031639214605093, -0.022237621247768402, 0.004399124067276716, 0.02877497859299183, 0.016190897673368454, -0.02034139074385166, -0.0010707739274948835, -0.023629959672689438, -0.00873857643455267, 0.01453335303813219, -0.0045814537443220615, 0.03720856457948685, 0.02779371105134487, -0.0014544955920428038, -0.00476046884432435, 0.011523251421749592, 0.033310022205114365, 0.013293509371578693, -0.034450411796569824, 0.012550929561257362, 0.0066500697284936905, 0.03999324142932892, 0.02015574462711811, 0.020606597885489464, 0.014851601794362068, -0.004637810401618481, -0.005486473441123962, 0.014639436267316341, 0.04529738426208496, 0.0017238466534763575, -0.02465100586414337, 0.016575448215007782, 0.0012473025126382709, -0.02384212426841259, -0.10465075075626373, -0.04786989465355873, 0.031108800321817398, 0.04118667542934418, -0.0012696792837232351, 0.034423891454935074, -0.0005154964164830744, 0.01009113248437643, -0.02739590033888817, 0.008208162151277065, -0.018710365518927574, -0.017185425385832787, -0.018962312489748, -0.021627644076943398, 0.0026437840424478054, 0.009580609388649464, 0.012484627775847912, 0.00593401025980711, -0.025393586605787277, 0.025446627289056778, -0.01841863803565502, 0.0012506175553426147, -0.007511992938816547, -0.007836871780455112, -0.0010483970399945974, -0.011019358411431313, -0.019810976460576057, 0.006384862586855888, 0.006268834695219994, 0.006182642187923193, 0.0006957544246688485, -0.005612446926534176, -0.0025791397783905268, -0.011894541792571545, -0.01280287653207779, -0.007896543480455875, -0.008950741961598396, -0.017291506752371788, 0.0013102891389280558, -0.012630491517484188, 0.00845347810536623, 0.0042035337537527084, -0.006822454277426004, -0.021070709452033043, 0.006484315264970064, -0.012670272961258888, 0.015647223219275475, 0.022370224818587303, -0.02134917676448822, -0.01885622926056385, -0.031877901405096054, 0.0068423449993133545, -0.04134579747915268, 0.008983893319964409, 0.02381560392677784, 0.02119005285203457, 0.01442726980894804, 0.0037825172767043114, -0.02465100586414337, -0.02316584624350071, -0.02638811431825161, 0.01649588532745838, -0.01825951412320137, 0.0005196402780711651, -0.005990366917103529, 0.0010243627475574613, -0.019200999289751053, 0.006139546167105436, -0.00362670817412436, -0.003280281089246273, -0.005284253042191267, 0.025486409664154053, -0.011980733834207058, 0.02077898196876049, -0.03155965358018875, 0.005333979148417711, -0.00962038990110159, -0.03270004317164421, 0.015501359477639198, -0.001982423709705472, -0.026109645143151283, -0.02774067036807537, -0.010681218467652798, -0.02283433824777603, 0.01327361911535263, 0.007220265455543995, 0.021985674276947975, -0.00028364735771901906, 0.017729099839925766, -0.03906501457095146, -0.009607129730284214, 0.015368755906820297, 0.01680087484419346, -0.03121488355100155, -0.014652696438133717, 0.0034543233923614025, 0.0012671930016949773, 0.010535354726016521, 0.0003497419529594481, 0.00790980365127325, -0.026719622313976288, -0.01385707501322031, -0.05617087706923485, 0.00907671544700861, 0.017278246581554413, -0.024213414639234543, -0.011496731080114841, 0.0002695582224987447, 0.0045814537443220615, -0.025433367118239403, 0.020447472110390663, -0.019718153402209282, -0.010621546767652035, 0.007180484011769295, -0.014718998223543167, 0.007538513746112585, -0.014480311423540115, -0.023908426985144615, 0.03874676674604416, -3.814942829194479e-05, 0.03362827003002167, 0.007545143831521273, 0.009587239474058151, -0.02207849733531475, 0.022277401760220528, 0.017291506752371788, -0.005244471598416567, 0.00016326816694345325, -0.03238179534673691, 0.0010550272418186069, -0.008891070261597633, -0.002144862897694111, 0.010508834384381771, -0.02368300035595894, -0.0034410629887133837, 0.014997465535998344, 0.006103080231696367, -0.013605128042399883, 0.005645597819238901, 0.0014453791081905365, 0.02400124818086624, -0.01810039021074772, 0.0009729788289405406, -0.06916602700948715, 0.004445535130798817, -0.025778137147426605, -0.04219445958733559, 0.017198685556650162, -0.00876509677618742, 0.008632493205368519, 0.01825951412320137, 0.010488943196833134, 0.015580921433866024, 0.006994839292019606, -0.011695636436343193, -0.0018216418102383614, -0.007160593755543232, 0.00757166463881731, -0.009779514744877815, 0.0002763955853879452, 0.004992525093257427, -0.017384329810738564, 0.033256977796554565, 0.0033084594178944826, 0.027952834963798523, 0.009282250888645649, 0.01002483069896698, 0.013127755373716354, -0.0030515401158481836, -0.00013498630141839385, 0.03909153863787651, -0.020845282822847366, -0.011549772694706917, 0.0006742063560523093, 0.0021100544836372137, -0.015726786106824875, 0.025181420147418976, -0.0037692568730562925, 0.00824794266372919, -0.006563877686858177, -0.01955902948975563, 0.04171708971261978, 0.024266455322504044, 0.01571352407336235, -0.04603996500372887, 0.012060295790433884, 0.01562070194631815, 0.004349397495388985, -0.008659014478325844, 0.011205002665519714, -0.013034932315349579, -0.008201532065868378, -0.026626799255609512, 0.0012249256251379848, 0.004697482101619244, 0.008320874534547329, -0.010482313111424446, 1.5435885870829225e-05, 0.010157434269785881, -0.017848443239927292, 0.010727629996836185, 0.028642375022172928, 0.03768593817949295, -7.464131340384483e-05, -0.0054732128046453, -0.009401594288647175, 0.0013741046423092484, 0.014612914994359016, -1.474955934099853e-05, -0.019174478948116302, -0.0035736665595322847, 0.00513507379218936, 0.0010434244759380817, -0.011397277936339378, -0.0026437840424478054, -0.007876653224229813, -0.001030164072290063, 0.016999779269099236, -0.006573822814971209, -0.026480935513973236, -0.031002718955278397, 0.023749303072690964, -0.0005507192690856755, 0.009123126976191998, 0.026785925030708313, -0.006272149737924337, 0.008446848019957542, -0.001753682387061417, 0.006305300630629063, -0.008745206519961357, 0.014639436267316341, 0.012537669390439987, 0.011423799209296703, -0.001572181237861514, -0.02776719070971012, -0.02254260890185833, -0.018246253952383995, -0.00268522254191339, -0.007545143831521273, 0.0219193734228611, -0.018577761948108673, 0.0502302385866642, -0.001959217945113778, -0.0031261295080184937, -0.0019144642865285277, -0.007392650004476309, 0.025340545922517776, 0.014546613208949566, 0.008811508305370808, -0.015435057692229748, -0.026083124801516533, 0.03609469532966614, 0.003812353126704693, 0.0045814537443220615, -0.01817995123565197, -0.006325190886855125, 0.020036401227116585, -0.008168380707502365, 0.02465100586414337, -0.004598029423505068, 0.013446003198623657, 0.02446536161005497, 0.004836715757846832, 0.01078067161142826, -0.0027531818486750126, -0.005131758749485016, -0.009003783576190472, 0.009739733301103115, 0.002139890333637595, -0.011503361165523529, -0.011006097309291363, 0.004584768787026405, 0.010687848553061485, -0.019930317997932434, -0.021693946793675423, -0.010429272428154945, 0.010595026426017284, -0.019837496802210808, 0.005967161152511835, -0.014825080521404743, 0.005821297410875559, 0.0053505548276007175, 0.043467454612255096, 0.002237685490399599, 0.00887118000537157, 0.008751836605370045, -0.0029321967158466578, -0.02774067036807537, -0.014639436267316341, -0.016190897673368454]\n",
      "1536\n"
     ]
    }
   ],
   "source": [
    "# Texting the embedding function\n",
    "\n",
    "input_text = \"This is for demonstration.\"\n",
    "outcome = embedding_function.embed_query(input_text)\n",
    "print(outcome)\n",
    "print(len(outcome))"
   ]
  },
  {
   "cell_type": "code",
   "execution_count": 12,
   "metadata": {
    "id": "2aBhDj2MuC8Q"
   },
   "outputs": [],
   "source": [
    "# Create a database from the documents and embedding function\n",
    "db = Chroma.from_documents(documents=documents, embedding=embedding_function, persist_directory=\"my-pdf-embeddings\")"
   ]
  },
  {
   "cell_type": "code",
   "execution_count": 13,
   "metadata": {
    "id": "LmBkTf4WuC8Q"
   },
   "outputs": [],
   "source": [
    "# Persist the data to disk\n",
    "db.persist()"
   ]
  },
  {
   "cell_type": "code",
   "execution_count": 14,
   "metadata": {
    "id": "9ZWmKeTruC8Q"
   },
   "outputs": [
    {
     "data": {
      "text/plain": [
       "dict_keys(['ids', 'embeddings', 'documents', 'metadatas'])"
      ]
     },
     "execution_count": 14,
     "metadata": {},
     "output_type": "execute_result"
    }
   ],
   "source": [
    "db.get().keys()"
   ]
  },
  {
   "cell_type": "code",
   "execution_count": 15,
   "metadata": {
    "id": "AdlEoQs9uC8Q"
   },
   "outputs": [
    {
     "data": {
      "text/plain": [
       "'BIS Papers No 4 19Graph 2\\nExpense to assets ratios and asset size of banks in 1998\\n0246810\\n56789 1 0 1 1 1 2GGG\\nGG\\nG\\nG\\nGGG\\nG\\nGGG\\nGG\\nG\\nGGGG\\nG\\nG\\nGG\\nGG\\nGGG\\nG\\nGG\\nG\\nG\\nGGG\\nG\\nG\\n048121620\\n56789 1 0 1 1 1 2GG\\nG\\nG GGG\\nG\\nGG\\nGG\\nGG\\nG\\nGGG\\nG\\nGG\\nG\\nGG\\nGG\\nGG\\nGGG\\nG GG\\n0246810\\n34567891 0G\\nG\\nGGG\\nGG\\nGG\\nGGG\\nG\\nGGG\\nG G\\nGGGG\\nG\\nGGG\\nG\\nTotal assets of bank4\\nTotal operating expense-to-total assets ratio Total operating expense-to-total assets ratio Total operating expense-to-total assets ratioAsia1\\nLatin America2\\nOther countries3\\nNote:  Bank sample based on the five largest private domestic banks in the respective regions.\\n1  China, Hong Kong, India, Korea, Malaysia, the Philippines, Singapore and Thailand.   2  Argentina, Brazil, Chile, Colombia,\\nMexico, Peru and Venezuela.   3  The Czech Republic, Hungary, Israel, Poland, Saudi Arabia and South Africa.   4  In US dollar\\nterms expressed logarithmically.\\nSource:  Fitch-IBCA.'"
      ]
     },
     "execution_count": 15,
     "metadata": {},
     "output_type": "execute_result"
    }
   ],
   "source": [
    "db.get()['documents'][0]"
   ]
  },
  {
   "cell_type": "markdown",
   "metadata": {
    "id": "j78hT1DjuC8Q"
   },
   "source": [
    "## Alternative: use the provided embeddings\n",
    "\n",
    "We have already executed the step above to embed all documents and stored the result in the `chroma-data-langchain-docs` folder. Instead of embedding all the documents yourself, you can use these embeddings at no cost.\n",
    "\n",
    "The result of this step is the same as the step above, but will not call the OpenAI API and cost nothing."
   ]
  },
  {
   "cell_type": "code",
   "execution_count": 17,
   "metadata": {
    "id": "3K4FUGKVuC8R"
   },
   "outputs": [],
   "source": [
    "# Import chroma\n",
    "from langchain.vectorstores import Chroma\n",
    "\n",
    "# Import OpenAIEmbeddings\n",
    "from langchain.embeddings.openai import OpenAIEmbeddings\n",
    "\n",
    "# Create the embedding function\n",
    "embedding = OpenAIEmbeddings(deployment=\"text-embedding-ada-002\",chunk_size = 1)\n",
    "\n",
    "# Load the database from existing embeddings\n",
    "db = Chroma(persist_directory=\"my-pdf-embeddings\", embedding_function=embedding)"
   ]
  },
  {
   "cell_type": "markdown",
   "metadata": {
    "id": "VOC117g0uC8R"
   },
   "source": [
    "# Step 5: query the vector database\n",
    "\n",
    "Now that we have a vector database, we can query it. A vector database stores embeddings (vectors) and allow to search through them using K-Nearest Neighbors algorithm (or a variation of it). When we query it the following will happen:\n",
    "1. Embed the text query to obtain a vector. It is crucial that this embedding is made using the same embedding technique that was used to embed the documents;\n",
    "2. Calculate the distance (or similarity) between the query vector and all other vectors;\n",
    "3. Sort results by similarity;\n",
    "4. Return the most similar documents.\n",
    "\n",
    "To do this with LangChain, we can use the `.similarity_search_with_score()` method of the database."
   ]
  },
  {
   "cell_type": "code",
   "execution_count": 18,
   "metadata": {
    "id": "85aPx_nWuC8R"
   },
   "outputs": [
    {
     "data": {
      "text/plain": [
       "'BIS Papers No 4 19Graph 2\\nExpense to assets ratios and asset size of banks in 1998\\n0246810\\n56789 1 0 1 1 1 2GGG\\nGG\\nG\\nG\\nGGG\\nG\\nGGG\\nGG\\nG\\nGGGG\\nG\\nG\\nGG\\nGG\\nGGG\\nG\\nGG\\nG\\nG\\nGGG\\nG\\nG\\n048121620\\n56789 1 0 1 1 1 2GG\\nG\\nG GGG\\nG\\nGG\\nGG\\nGG\\nG\\nGGG\\nG\\nGG\\nG\\nGG\\nGG\\nGG\\nGGG\\nG GG\\n0246810\\n34567891 0G\\nG\\nGGG\\nGG\\nGG\\nGGG\\nG\\nGGG\\nG G\\nGGGG\\nG\\nGGG\\nG\\nTotal assets of bank4\\nTotal operating expense-to-total assets ratio Total operating expense-to-total assets ratio Total operating expense-to-total assets ratioAsia1\\nLatin America2\\nOther countries3\\nNote:  Bank sample based on the five largest private domestic banks in the respective regions.\\n1  China, Hong Kong, India, Korea, Malaysia, the Philippines, Singapore and Thailand.   2  Argentina, Brazil, Chile, Colombia,\\nMexico, Peru and Venezuela.   3  The Czech Republic, Hungary, Israel, Poland, Saudi Arabia and South Africa.   4  In US dollar\\nterms expressed logarithmically.\\nSource:  Fitch-IBCA.'"
      ]
     },
     "execution_count": 18,
     "metadata": {},
     "output_type": "execute_result"
    }
   ],
   "source": [
    "db.get()['documents'][0]"
   ]
  },
  {
   "cell_type": "code",
   "execution_count": 19,
   "metadata": {
    "id": "uHm75ZzxuC8R"
   },
   "outputs": [],
   "source": [
    "# Call the `similarity_search_with_score` method on `db`\n",
    "results = db.similarity_search_with_score(\"what is the future of banks?\")"
   ]
  },
  {
   "cell_type": "code",
   "execution_count": 20,
   "metadata": {
    "id": "fu6JaNfFuC8R"
   },
   "outputs": [
    {
     "name": "stdout",
     "output_type": "stream",
     "text": [
      "score 0.26023781299591064\n",
      "Global Banking & Securities\n",
      "AI bank of the future: Can \n",
      "banks meet the AI challenge?\n",
      "Artificial intelligence technologies are increasingly integral to the world we  \n",
      "live in, and banks need to deploy these technologies at scale to remain  \n",
      "relevant. Success requires a holistic transformation spanning multiple layers \n",
      "of the organization.\n",
      "September  2020© Getty Imagesby Suparna Biswas, Brant Carson, Violet Chung, Shwaitang Singh, and Renny Thomas \n",
      "4\n",
      "-----------------\n"
     ]
    }
   ],
   "source": [
    "for (doc, score) in results:\n",
    "    print('score', score)\n",
    "    print(doc.page_content)\n",
    "    print('-----------------')\n",
    "    break"
   ]
  },
  {
   "cell_type": "code",
   "execution_count": 21,
   "metadata": {
    "id": "wXD_YchguC8S"
   },
   "outputs": [
    {
     "name": "stdout",
     "output_type": "stream",
     "text": [
      "score 0.26023781299591064\n",
      "Global Banking & Securities\n",
      "AI bank of the future: Can \n",
      "banks meet the AI challenge?\n",
      "Artificial intelligence technologies are increasingly integral to the world we  \n",
      "live in, and banks need to deploy these technologies at scale to remain  \n",
      "relevant. Success requires a holistic transformation spanning multiple layers \n",
      "of the organization.\n",
      "September  2020© Getty Imagesby Suparna Biswas, Brant Carson, Violet Chung, Shwaitang Singh, and Renny Thomas \n",
      "4\n",
      "-----------------\n",
      "score 0.27077344059944153\n",
      "Banking is at a pivotal moment. Technology \n",
      "disruption and consumer shifts are laying the basis \n",
      "for a new S-curve for banking business models, \n",
      "and the COVID-19 pandemic has accelerated \n",
      "these trends. Building upon this momentum, \n",
      "the advancement of artificial-intelligence (AI) \n",
      "technologies within financial services offers banks \n",
      "the potential to increase revenue at lower cost by \n",
      "engaging and serving customers in radically new \n",
      "ways, using a new business model we call “the AI \n",
      "bank of the future.” The articles collected here \n",
      "outline key milestones on a path we believe can lead \n",
      "banks to deeper customer relationships, expanded \n",
      "market share, and stronger financial performance.\n",
      "The opportunity for a new business model comes as \n",
      "banks face daunting challenges on multiple fronts. \n",
      "In capital markets, many banks trade at a 50 percent \n",
      "discount to book, and approximately three-quarters \n",
      "of banks globally earn returns on equity that do not\n",
      "-----------------\n",
      "score 0.2742777466773987\n",
      "groundwork for long-term growth.  Optimizing \n",
      "balance sheets and cost and capital positions will \n",
      "help banks through these volatile times, and it will \n",
      "be more important than ever to build exceptional \n",
      "risk management practices and technological \n",
      "infrastructure that can resist cyberattacks. In the \n",
      "longer term, banks from traditional business models in \n",
      "particular will need to transition to more future-proof \n",
      "platforms, in which different business units such as \n",
      "everyday banking and complex financing or advisory \n",
      "services will be decoupled, so that banks can foster \n",
      "highly differentiated customer relationships. They will \n",
      "also need to embrace new industry-shaping growth \n",
      "trends, such as environmental, social, and governance (ESG) investing, beyond-banking offerings,  \n",
      "and advanced analytics.\n",
      "Sustainable finance has grown fast from almost \n",
      "nothing five years ago to become a major theme for \n",
      "banks. Issuance of sustainable bonds now accounts\n",
      "-----------------\n",
      "score 0.27707040309906006\n",
      "low-cost capital. In the past, tech giants have \n",
      "aggressively entered into adjacent businesses \n",
      "in search of new revenue streams and to \n",
      "keep customers engaged with a fresh stream \n",
      "of offerings. Big-tech players have already \n",
      "gained a foothold in financial services in select \n",
      "domains (especially in payments and, in some \n",
      "cases, lending and insurance), and they may \n",
      "soon look to press their advantages to deepen \n",
      "their presence and build greater scale.\n",
      "2. What might the AI bank of the \n",
      "future look like?\n",
      "To meet customers’ rising expectations and \n",
      "beat competitive threats in the AI-powered digital era, the AI-first bank will offer propositions \n",
      "and experiences that are intelligent  (that \n",
      "is, recommending actions, anticipating and \n",
      "automating key decisions or tasks), personalized  \n",
      "(that is, relevant and timely, and based on a \n",
      "detailed understanding of customers’ past \n",
      "behavior and context), and truly omnichannel  \n",
      "(seamlessly spanning the physical and online\n",
      "-----------------\n"
     ]
    }
   ],
   "source": [
    "# Print the results\n",
    "for (doc, score) in results:\n",
    "    print('score', score)\n",
    "    print(doc.page_content)\n",
    "    print('-----------------')"
   ]
  },
  {
   "cell_type": "markdown",
   "metadata": {
    "id": "FWyFg7bDuC8S"
   },
   "source": [
    "# Step 6: Create a QA chain\n",
    "\n",
    "Let's put it all together into a chat-like application. We want the user to ask a question, then search for relevant documents. We'll then create a prompt that includes the documents and the question so GPT can answer it (if possible).\n",
    "\n",
    "First, we'll query the database in a similar manner to previous step. We'll use `.similarity_search()`:\n",
    "\n",
    "```python\n",
    "question = \"show an example of adding memory to a chain\"\n",
    "context_docs = db.similarity_search(question)\n",
    "```\n",
    "\n",
    "Next, we will create a prompt that contains the question and the relevant documents:\n",
    "\n",
    "> You can think of a PromptTemplate as an fstring in python: values in curly brances are used as placeholder and will be replaced by values we pass when running the chain.\n",
    "\n",
    "```python\n",
    "prompt = PromptTemplate(\n",
    "    template=\n",
    "    \"\"\"\"Use the following pieces of context to answer the question at the end. If you don't know the answer, just say that you don't know, don't try to make up an answer.\n",
    "        <context>\n",
    "        {context}\n",
    "        </context>\n",
    "Question: {question}\n",
    "Helpful Answer:\"\"\",\n",
    "    input_variables=[\"context\", \"question\"]\n",
    ")\n",
    "```\n",
    "\n",
    "To call the LLM with this prompt, we need to create an `LLMChain` and pass it an LLM and the prompt:\n",
    "\n",
    "```python\n",
    "llm = ChatOpenAI(temperature=0)\n",
    "qa_chain = LLMChain(llm=llm, prompt=prompt)\n",
    "```\n",
    "\n",
    "We can now call our chain like so:\n",
    "\n",
    "```python\n",
    "qa_chain({\"context\": \"<the context>\", \"question\": \"<the question>\"})\n",
    "```\n",
    "\n",
    "This will return a dict with a `text` key containing the LLM response."
   ]
  },
  {
   "cell_type": "code",
   "execution_count": 22,
   "metadata": {
    "id": "TF9wSc5EuC8S"
   },
   "outputs": [],
   "source": [
    "# Import\n",
    "from langchain.prompts import PromptTemplate\n",
    "from langchain.chains.llm import LLMChain\n",
    "from langchain.chat_models import ChatOpenAI\n",
    "from langchain.chat_models import AzureChatOpenAI\n",
    "from langchain.schema import HumanMessage\n",
    "\n",
    "# Set the question variable\n",
    "question = \"What is the future of banks\"\n",
    "\n",
    "# Query the database as store the results as `context_docs`\n",
    "context_docs = db.similarity_search(question)\n",
    "\n",
    "# Create a prompt with 2 variables: `context` and `question`\n",
    "prompt = PromptTemplate(\n",
    "    template=\"\"\"\"Use the following pieces of context to answer the question at the end. If you don't know the answer, just say that you don't know, don't try to make up an answer.\n",
    "\n",
    "<context>\n",
    "{context}\n",
    "</context>\n",
    "\n",
    "Question: {question}\n",
    "Helpful Answer, formatted in markdown:\"\"\",\n",
    "    input_variables=[\"context\", \"question\"]\n",
    ")\n",
    "\n",
    "# Create an LLM with ChatOpenAI\n",
    "llm = AzureChatOpenAI(\n",
    "    openai_api_base=\"https://classbi-openai-02.openai.azure.com/\",\n",
    "    openai_api_version=\"2023-03-15-preview\",\n",
    "    deployment_name=\"gpt-35-turbo\",\n",
    "    openai_api_key=\"3ba3c7f85c2c42589bea7b95f041c079\",\n",
    "    openai_api_type=\"azure\",\n",
    ")"
   ]
  },
  {
   "cell_type": "code",
   "execution_count": 23,
   "metadata": {
    "id": "KiZzEvuKuC8S"
   },
   "outputs": [
    {
     "name": "stdout",
     "output_type": "stream",
     "text": [
      "The future of banks lies in the adoption and integration of artificial intelligence technologies at scale. This will enable them to engage and serve customers in new ways, leading to deeper customer relationships, expanded market share, and stronger financial performance. The advancement of AI technologies within financial services offers banks the potential to increase revenue at lower cost, paving the way for a new business model known as \"the AI bank of the future.\" This model will require a holistic transformation spanning multiple layers of the organization, and banks will need an AI-and-analytics capability stack that delivers intelligent, personalized solutions and distinctive experiences at scale in real time.\n"
     ]
    }
   ],
   "source": [
    "# Create the chain\n",
    "qa_chain = LLMChain(llm=llm, prompt=prompt)\n",
    "\n",
    "# Call the chain\n",
    "result = qa_chain({\n",
    "    \"question\": question,\n",
    "    \"context\": \"\\n\".join([doc.page_content for doc in context_docs])\n",
    "})\n",
    "\n",
    "# Print the result\n",
    "print(result[\"text\"])"
   ]
  },
  {
   "cell_type": "code",
   "execution_count": null,
   "metadata": {},
   "outputs": [],
   "source": []
  }
 ],
 "metadata": {
  "colab": {
   "provenance": []
  },
  "kernelspec": {
   "display_name": "env-rag",
   "language": "python",
   "name": "python3"
  },
  "language_info": {
   "codemirror_mode": {
    "name": "ipython",
    "version": 3
   },
   "file_extension": ".py",
   "mimetype": "text/x-python",
   "name": "python",
   "nbconvert_exporter": "python",
   "pygments_lexer": "ipython3",
   "version": "3.9.13"
  },
  "orig_nbformat": 4
 },
 "nbformat": 4,
 "nbformat_minor": 0
}
